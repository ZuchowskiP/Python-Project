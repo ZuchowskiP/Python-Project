{
 "cells": [
  {
   "cell_type": "code",
   "execution_count": 3,
   "id": "360bfdd3",
   "metadata": {},
   "outputs": [
    {
     "name": "stderr",
     "output_type": "stream",
     "text": [
      "[nltk_data] Downloading package stopwords to\n",
      "[nltk_data]     C:\\Users\\anubu\\AppData\\Roaming\\nltk_data...\n",
      "[nltk_data]   Package stopwords is already up-to-date!\n"
     ]
    }
   ],
   "source": [
    "import csv\n",
    "import pandas as pd\n",
    "import tweepy\n",
    "import nltk\n",
    "from nltk.corpus import stopwords\n",
    "from nltk.corpus import words\n",
    "nltk.download('stopwords')\n",
    "stop = stopwords.words('english')\n",
    "from textblob import TextBlob\n",
    "from sklearn.model_selection import train_test_split\n",
    "from sklearn.feature_extraction.text import CountVectorizer\n",
    "from sklearn import tree\n",
    "from sklearn.metrics import classification_report"
   ]
  },
  {
   "cell_type": "code",
   "execution_count": 4,
   "id": "8499ab32",
   "metadata": {},
   "outputs": [],
   "source": [
    "auth = tweepy.AppAuthHandler('', '')\n",
    "hashtag = \"#ETH\"\n",
    "api = tweepy.API(auth, wait_on_rate_limit=True, wait_on_rate_limit_notify=True)"
   ]
  },
  {
   "cell_type": "code",
   "execution_count": null,
   "id": "9ee5d4ab",
   "metadata": {},
   "outputs": [],
   "source": [
    "#Downloading data from Twitter and moving it over to a CSV file\n",
    "#csvFile = open('Teaching group.csv', 'a')\n",
    "#csvWriter = csv.writer(csvFile)\n",
    "#csvWriter.writerow(['Tweet date', 'Tweet'])\n",
    "#new_search = hashtag + ' -filter:retweets' + ' -filter:replies'\n",
    "#for tweet in tweepy.Cursor(api.search, q = new_search, count = 50, lang = 'en', since_id = 0).items(100):\n",
    "#    csvWriter.writerow([tweet.created_at, tweet.text.encode('utf-8')])\n",
    "#csvFile.close()"
   ]
  },
  {
   "cell_type": "code",
   "execution_count": 5,
   "id": "44502405",
   "metadata": {},
   "outputs": [],
   "source": [
    "with open('Teaching group.csv', 'r', encoding = 'utf-8', newline = '\\n') as csvfile:\n",
    "    csvreader = csv.reader(csvfile)\n",
    "    date = []\n",
    "    tweetText = []\n",
    "    for row in csvreader:\n",
    "        date.append(row[0])\n",
    "        tweetText.append(row[1])\n",
    "pandasTweet = pd.read_csv('Teaching group.csv')"
   ]
  },
  {
   "cell_type": "code",
   "execution_count": 6,
   "id": "7636756d",
   "metadata": {},
   "outputs": [],
   "source": [
    "recentDate = date[81]\n",
    "oldestDate = date[-1]"
   ]
  },
  {
   "cell_type": "code",
   "execution_count": 7,
   "id": "033dc17d",
   "metadata": {},
   "outputs": [
    {
     "data": {
      "text/html": [
       "<div>\n",
       "<style scoped>\n",
       "    .dataframe tbody tr th:only-of-type {\n",
       "        vertical-align: middle;\n",
       "    }\n",
       "\n",
       "    .dataframe tbody tr th {\n",
       "        vertical-align: top;\n",
       "    }\n",
       "\n",
       "    .dataframe thead th {\n",
       "        text-align: right;\n",
       "    }\n",
       "</style>\n",
       "<table border=\"1\" class=\"dataframe\">\n",
       "  <thead>\n",
       "    <tr style=\"text-align: right;\">\n",
       "      <th></th>\n",
       "      <th>Tweet</th>\n",
       "      <th>word_count</th>\n",
       "    </tr>\n",
       "  </thead>\n",
       "  <tbody>\n",
       "    <tr>\n",
       "      <th>0</th>\n",
       "      <td>b'New CoinMarketCap Listing!\\n\\nEscoinToken / ...</td>\n",
       "      <td>10</td>\n",
       "    </tr>\n",
       "    <tr>\n",
       "      <th>1</th>\n",
       "      <td>b'#Ethereum hourly net stats.\\n3pm - 4pm UTC\\n...</td>\n",
       "      <td>12</td>\n",
       "    </tr>\n",
       "    <tr>\n",
       "      <th>2</th>\n",
       "      <td>b\"#DOGGYSWAP #ETH #BTC #CRYPTO..This project i...</td>\n",
       "      <td>21</td>\n",
       "    </tr>\n",
       "    <tr>\n",
       "      <th>3</th>\n",
       "      <td>b\"$ALBT doesn't stop!!! #DEX #AMM #DEFI \\n\\n$Q...</td>\n",
       "      <td>19</td>\n",
       "    </tr>\n",
       "    <tr>\n",
       "      <th>4</th>\n",
       "      <td>b\"By buying tokens of our 100's property locat...</td>\n",
       "      <td>20</td>\n",
       "    </tr>\n",
       "  </tbody>\n",
       "</table>\n",
       "</div>"
      ],
      "text/plain": [
       "                                               Tweet  word_count\n",
       "0  b'New CoinMarketCap Listing!\\n\\nEscoinToken / ...          10\n",
       "1  b'#Ethereum hourly net stats.\\n3pm - 4pm UTC\\n...          12\n",
       "2  b\"#DOGGYSWAP #ETH #BTC #CRYPTO..This project i...          21\n",
       "3  b\"$ALBT doesn't stop!!! #DEX #AMM #DEFI \\n\\n$Q...          19\n",
       "4  b\"By buying tokens of our 100's property locat...          20"
      ]
     },
     "execution_count": 7,
     "metadata": {},
     "output_type": "execute_result"
    }
   ],
   "source": [
    "#Analysis\n",
    "pandasTweet['word_count'] = pandasTweet['Tweet'].apply(lambda x: len(str(x).split(\" \")))\n",
    "pandasTweet[['Tweet','word_count']].head()"
   ]
  },
  {
   "cell_type": "code",
   "execution_count": 8,
   "id": "5cbc4e66",
   "metadata": {},
   "outputs": [
    {
     "data": {
      "text/html": [
       "<div>\n",
       "<style scoped>\n",
       "    .dataframe tbody tr th:only-of-type {\n",
       "        vertical-align: middle;\n",
       "    }\n",
       "\n",
       "    .dataframe tbody tr th {\n",
       "        vertical-align: top;\n",
       "    }\n",
       "\n",
       "    .dataframe thead th {\n",
       "        text-align: right;\n",
       "    }\n",
       "</style>\n",
       "<table border=\"1\" class=\"dataframe\">\n",
       "  <thead>\n",
       "    <tr style=\"text-align: right;\">\n",
       "      <th></th>\n",
       "      <th>Tweet</th>\n",
       "      <th>char_count</th>\n",
       "    </tr>\n",
       "  </thead>\n",
       "  <tbody>\n",
       "    <tr>\n",
       "      <th>0</th>\n",
       "      <td>b'New CoinMarketCap Listing!\\n\\nEscoinToken / ...</td>\n",
       "      <td>155</td>\n",
       "    </tr>\n",
       "    <tr>\n",
       "      <th>1</th>\n",
       "      <td>b'#Ethereum hourly net stats.\\n3pm - 4pm UTC\\n...</td>\n",
       "      <td>145</td>\n",
       "    </tr>\n",
       "    <tr>\n",
       "      <th>2</th>\n",
       "      <td>b\"#DOGGYSWAP #ETH #BTC #CRYPTO..This project i...</td>\n",
       "      <td>154</td>\n",
       "    </tr>\n",
       "    <tr>\n",
       "      <th>3</th>\n",
       "      <td>b\"$ALBT doesn't stop!!! #DEX #AMM #DEFI \\n\\n$Q...</td>\n",
       "      <td>157</td>\n",
       "    </tr>\n",
       "    <tr>\n",
       "      <th>4</th>\n",
       "      <td>b\"By buying tokens of our 100's property locat...</td>\n",
       "      <td>158</td>\n",
       "    </tr>\n",
       "  </tbody>\n",
       "</table>\n",
       "</div>"
      ],
      "text/plain": [
       "                                               Tweet  char_count\n",
       "0  b'New CoinMarketCap Listing!\\n\\nEscoinToken / ...         155\n",
       "1  b'#Ethereum hourly net stats.\\n3pm - 4pm UTC\\n...         145\n",
       "2  b\"#DOGGYSWAP #ETH #BTC #CRYPTO..This project i...         154\n",
       "3  b\"$ALBT doesn't stop!!! #DEX #AMM #DEFI \\n\\n$Q...         157\n",
       "4  b\"By buying tokens of our 100's property locat...         158"
      ]
     },
     "execution_count": 8,
     "metadata": {},
     "output_type": "execute_result"
    }
   ],
   "source": [
    "pandasTweet['char_count'] = pandasTweet['Tweet'].str.len()\n",
    "pandasTweet[['Tweet','char_count']].head()"
   ]
  },
  {
   "cell_type": "code",
   "execution_count": 9,
   "id": "1861b7d0",
   "metadata": {},
   "outputs": [
    {
     "data": {
      "text/html": [
       "<div>\n",
       "<style scoped>\n",
       "    .dataframe tbody tr th:only-of-type {\n",
       "        vertical-align: middle;\n",
       "    }\n",
       "\n",
       "    .dataframe tbody tr th {\n",
       "        vertical-align: top;\n",
       "    }\n",
       "\n",
       "    .dataframe thead th {\n",
       "        text-align: right;\n",
       "    }\n",
       "</style>\n",
       "<table border=\"1\" class=\"dataframe\">\n",
       "  <thead>\n",
       "    <tr style=\"text-align: right;\">\n",
       "      <th></th>\n",
       "      <th>Tweet</th>\n",
       "      <th>avg_word</th>\n",
       "    </tr>\n",
       "  </thead>\n",
       "  <tbody>\n",
       "    <tr>\n",
       "      <th>0</th>\n",
       "      <td>b'New CoinMarketCap Listing!\\n\\nEscoinToken / ...</td>\n",
       "      <td>14.600000</td>\n",
       "    </tr>\n",
       "    <tr>\n",
       "      <th>1</th>\n",
       "      <td>b'#Ethereum hourly net stats.\\n3pm - 4pm UTC\\n...</td>\n",
       "      <td>11.166667</td>\n",
       "    </tr>\n",
       "    <tr>\n",
       "      <th>2</th>\n",
       "      <td>b\"#DOGGYSWAP #ETH #BTC #CRYPTO..This project i...</td>\n",
       "      <td>6.700000</td>\n",
       "    </tr>\n",
       "    <tr>\n",
       "      <th>3</th>\n",
       "      <td>b\"$ALBT doesn't stop!!! #DEX #AMM #DEFI \\n\\n$Q...</td>\n",
       "      <td>7.315789</td>\n",
       "    </tr>\n",
       "    <tr>\n",
       "      <th>4</th>\n",
       "      <td>b\"By buying tokens of our 100's property locat...</td>\n",
       "      <td>6.950000</td>\n",
       "    </tr>\n",
       "  </tbody>\n",
       "</table>\n",
       "</div>"
      ],
      "text/plain": [
       "                                               Tweet   avg_word\n",
       "0  b'New CoinMarketCap Listing!\\n\\nEscoinToken / ...  14.600000\n",
       "1  b'#Ethereum hourly net stats.\\n3pm - 4pm UTC\\n...  11.166667\n",
       "2  b\"#DOGGYSWAP #ETH #BTC #CRYPTO..This project i...   6.700000\n",
       "3  b\"$ALBT doesn't stop!!! #DEX #AMM #DEFI \\n\\n$Q...   7.315789\n",
       "4  b\"By buying tokens of our 100's property locat...   6.950000"
      ]
     },
     "execution_count": 9,
     "metadata": {},
     "output_type": "execute_result"
    }
   ],
   "source": [
    "def avg_word(sentence):\n",
    "  words = sentence.split()\n",
    "  return (sum(len(word) for word in words)/len(words))\n",
    "\n",
    "pandasTweet['avg_word'] = pandasTweet['Tweet'].apply(lambda x: avg_word(x))\n",
    "pandasTweet[['Tweet','avg_word']].head()"
   ]
  },
  {
   "cell_type": "code",
   "execution_count": 10,
   "id": "83267a43",
   "metadata": {},
   "outputs": [
    {
     "data": {
      "text/html": [
       "<div>\n",
       "<style scoped>\n",
       "    .dataframe tbody tr th:only-of-type {\n",
       "        vertical-align: middle;\n",
       "    }\n",
       "\n",
       "    .dataframe tbody tr th {\n",
       "        vertical-align: top;\n",
       "    }\n",
       "\n",
       "    .dataframe thead th {\n",
       "        text-align: right;\n",
       "    }\n",
       "</style>\n",
       "<table border=\"1\" class=\"dataframe\">\n",
       "  <thead>\n",
       "    <tr style=\"text-align: right;\">\n",
       "      <th></th>\n",
       "      <th>Tweet</th>\n",
       "      <th>stopwords</th>\n",
       "    </tr>\n",
       "  </thead>\n",
       "  <tbody>\n",
       "    <tr>\n",
       "      <th>0</th>\n",
       "      <td>b'New CoinMarketCap Listing!\\n\\nEscoinToken / ...</td>\n",
       "      <td>0</td>\n",
       "    </tr>\n",
       "    <tr>\n",
       "      <th>1</th>\n",
       "      <td>b'#Ethereum hourly net stats.\\n3pm - 4pm UTC\\n...</td>\n",
       "      <td>0</td>\n",
       "    </tr>\n",
       "    <tr>\n",
       "      <th>2</th>\n",
       "      <td>b\"#DOGGYSWAP #ETH #BTC #CRYPTO..This project i...</td>\n",
       "      <td>7</td>\n",
       "    </tr>\n",
       "    <tr>\n",
       "      <th>3</th>\n",
       "      <td>b\"$ALBT doesn't stop!!! #DEX #AMM #DEFI \\n\\n$Q...</td>\n",
       "      <td>1</td>\n",
       "    </tr>\n",
       "    <tr>\n",
       "      <th>4</th>\n",
       "      <td>b\"By buying tokens of our 100's property locat...</td>\n",
       "      <td>6</td>\n",
       "    </tr>\n",
       "  </tbody>\n",
       "</table>\n",
       "</div>"
      ],
      "text/plain": [
       "                                               Tweet  stopwords\n",
       "0  b'New CoinMarketCap Listing!\\n\\nEscoinToken / ...          0\n",
       "1  b'#Ethereum hourly net stats.\\n3pm - 4pm UTC\\n...          0\n",
       "2  b\"#DOGGYSWAP #ETH #BTC #CRYPTO..This project i...          7\n",
       "3  b\"$ALBT doesn't stop!!! #DEX #AMM #DEFI \\n\\n$Q...          1\n",
       "4  b\"By buying tokens of our 100's property locat...          6"
      ]
     },
     "execution_count": 10,
     "metadata": {},
     "output_type": "execute_result"
    }
   ],
   "source": [
    "pandasTweet['stopwords'] = pandasTweet['Tweet'].apply(lambda x: len([x for x in x.split() if x in stop]))\n",
    "pandasTweet[['Tweet','stopwords']].head()"
   ]
  },
  {
   "cell_type": "code",
   "execution_count": 11,
   "id": "0ca4d77d",
   "metadata": {},
   "outputs": [
    {
     "data": {
      "text/html": [
       "<div>\n",
       "<style scoped>\n",
       "    .dataframe tbody tr th:only-of-type {\n",
       "        vertical-align: middle;\n",
       "    }\n",
       "\n",
       "    .dataframe tbody tr th {\n",
       "        vertical-align: top;\n",
       "    }\n",
       "\n",
       "    .dataframe thead th {\n",
       "        text-align: right;\n",
       "    }\n",
       "</style>\n",
       "<table border=\"1\" class=\"dataframe\">\n",
       "  <thead>\n",
       "    <tr style=\"text-align: right;\">\n",
       "      <th></th>\n",
       "      <th>Tweet</th>\n",
       "      <th>hastags</th>\n",
       "    </tr>\n",
       "  </thead>\n",
       "  <tbody>\n",
       "    <tr>\n",
       "      <th>0</th>\n",
       "      <td>b'New CoinMarketCap Listing!\\n\\nEscoinToken / ...</td>\n",
       "      <td>1</td>\n",
       "    </tr>\n",
       "    <tr>\n",
       "      <th>1</th>\n",
       "      <td>b'#Ethereum hourly net stats.\\n3pm - 4pm UTC\\n...</td>\n",
       "      <td>2</td>\n",
       "    </tr>\n",
       "    <tr>\n",
       "      <th>2</th>\n",
       "      <td>b\"#DOGGYSWAP #ETH #BTC #CRYPTO..This project i...</td>\n",
       "      <td>3</td>\n",
       "    </tr>\n",
       "    <tr>\n",
       "      <th>3</th>\n",
       "      <td>b\"$ALBT doesn't stop!!! #DEX #AMM #DEFI \\n\\n$Q...</td>\n",
       "      <td>5</td>\n",
       "    </tr>\n",
       "    <tr>\n",
       "      <th>4</th>\n",
       "      <td>b\"By buying tokens of our 100's property locat...</td>\n",
       "      <td>2</td>\n",
       "    </tr>\n",
       "  </tbody>\n",
       "</table>\n",
       "</div>"
      ],
      "text/plain": [
       "                                               Tweet  hastags\n",
       "0  b'New CoinMarketCap Listing!\\n\\nEscoinToken / ...        1\n",
       "1  b'#Ethereum hourly net stats.\\n3pm - 4pm UTC\\n...        2\n",
       "2  b\"#DOGGYSWAP #ETH #BTC #CRYPTO..This project i...        3\n",
       "3  b\"$ALBT doesn't stop!!! #DEX #AMM #DEFI \\n\\n$Q...        5\n",
       "4  b\"By buying tokens of our 100's property locat...        2"
      ]
     },
     "execution_count": 11,
     "metadata": {},
     "output_type": "execute_result"
    }
   ],
   "source": [
    "pandasTweet['hastags'] = pandasTweet['Tweet'].apply(lambda x: len([x for x in x.split() if x.startswith('#')]))\n",
    "pandasTweet[['Tweet','hastags']].head()"
   ]
  },
  {
   "cell_type": "code",
   "execution_count": 12,
   "id": "b591133e",
   "metadata": {},
   "outputs": [
    {
     "data": {
      "text/html": [
       "<div>\n",
       "<style scoped>\n",
       "    .dataframe tbody tr th:only-of-type {\n",
       "        vertical-align: middle;\n",
       "    }\n",
       "\n",
       "    .dataframe tbody tr th {\n",
       "        vertical-align: top;\n",
       "    }\n",
       "\n",
       "    .dataframe thead th {\n",
       "        text-align: right;\n",
       "    }\n",
       "</style>\n",
       "<table border=\"1\" class=\"dataframe\">\n",
       "  <thead>\n",
       "    <tr style=\"text-align: right;\">\n",
       "      <th></th>\n",
       "      <th>Tweet</th>\n",
       "      <th>numerics</th>\n",
       "    </tr>\n",
       "  </thead>\n",
       "  <tbody>\n",
       "    <tr>\n",
       "      <th>0</th>\n",
       "      <td>b'New CoinMarketCap Listing!\\n\\nEscoinToken / ...</td>\n",
       "      <td>0</td>\n",
       "    </tr>\n",
       "    <tr>\n",
       "      <th>1</th>\n",
       "      <td>b'#Ethereum hourly net stats.\\n3pm - 4pm UTC\\n...</td>\n",
       "      <td>0</td>\n",
       "    </tr>\n",
       "    <tr>\n",
       "      <th>2</th>\n",
       "      <td>b\"#DOGGYSWAP #ETH #BTC #CRYPTO..This project i...</td>\n",
       "      <td>0</td>\n",
       "    </tr>\n",
       "    <tr>\n",
       "      <th>3</th>\n",
       "      <td>b\"$ALBT doesn't stop!!! #DEX #AMM #DEFI \\n\\n$Q...</td>\n",
       "      <td>0</td>\n",
       "    </tr>\n",
       "    <tr>\n",
       "      <th>4</th>\n",
       "      <td>b\"By buying tokens of our 100's property locat...</td>\n",
       "      <td>0</td>\n",
       "    </tr>\n",
       "  </tbody>\n",
       "</table>\n",
       "</div>"
      ],
      "text/plain": [
       "                                               Tweet  numerics\n",
       "0  b'New CoinMarketCap Listing!\\n\\nEscoinToken / ...         0\n",
       "1  b'#Ethereum hourly net stats.\\n3pm - 4pm UTC\\n...         0\n",
       "2  b\"#DOGGYSWAP #ETH #BTC #CRYPTO..This project i...         0\n",
       "3  b\"$ALBT doesn't stop!!! #DEX #AMM #DEFI \\n\\n$Q...         0\n",
       "4  b\"By buying tokens of our 100's property locat...         0"
      ]
     },
     "execution_count": 12,
     "metadata": {},
     "output_type": "execute_result"
    }
   ],
   "source": [
    "pandasTweet['numerics'] = pandasTweet['Tweet'].apply(lambda x: len([x for x in x.split() if x.isdigit()]))\n",
    "pandasTweet[['Tweet','numerics']].head()"
   ]
  },
  {
   "cell_type": "code",
   "execution_count": 13,
   "id": "7ad2023d",
   "metadata": {},
   "outputs": [
    {
     "data": {
      "text/html": [
       "<div>\n",
       "<style scoped>\n",
       "    .dataframe tbody tr th:only-of-type {\n",
       "        vertical-align: middle;\n",
       "    }\n",
       "\n",
       "    .dataframe tbody tr th {\n",
       "        vertical-align: top;\n",
       "    }\n",
       "\n",
       "    .dataframe thead th {\n",
       "        text-align: right;\n",
       "    }\n",
       "</style>\n",
       "<table border=\"1\" class=\"dataframe\">\n",
       "  <thead>\n",
       "    <tr style=\"text-align: right;\">\n",
       "      <th></th>\n",
       "      <th>Tweet</th>\n",
       "      <th>upper</th>\n",
       "    </tr>\n",
       "  </thead>\n",
       "  <tbody>\n",
       "    <tr>\n",
       "      <th>0</th>\n",
       "      <td>b'New CoinMarketCap Listing!\\n\\nEscoinToken / ...</td>\n",
       "      <td>0</td>\n",
       "    </tr>\n",
       "    <tr>\n",
       "      <th>1</th>\n",
       "      <td>b'#Ethereum hourly net stats.\\n3pm - 4pm UTC\\n...</td>\n",
       "      <td>1</td>\n",
       "    </tr>\n",
       "    <tr>\n",
       "      <th>2</th>\n",
       "      <td>b\"#DOGGYSWAP #ETH #BTC #CRYPTO..This project i...</td>\n",
       "      <td>2</td>\n",
       "    </tr>\n",
       "    <tr>\n",
       "      <th>3</th>\n",
       "      <td>b\"$ALBT doesn't stop!!! #DEX #AMM #DEFI \\n\\n$Q...</td>\n",
       "      <td>12</td>\n",
       "    </tr>\n",
       "    <tr>\n",
       "      <th>4</th>\n",
       "      <td>b\"By buying tokens of our 100's property locat...</td>\n",
       "      <td>1</td>\n",
       "    </tr>\n",
       "  </tbody>\n",
       "</table>\n",
       "</div>"
      ],
      "text/plain": [
       "                                               Tweet  upper\n",
       "0  b'New CoinMarketCap Listing!\\n\\nEscoinToken / ...      0\n",
       "1  b'#Ethereum hourly net stats.\\n3pm - 4pm UTC\\n...      1\n",
       "2  b\"#DOGGYSWAP #ETH #BTC #CRYPTO..This project i...      2\n",
       "3  b\"$ALBT doesn't stop!!! #DEX #AMM #DEFI \\n\\n$Q...     12\n",
       "4  b\"By buying tokens of our 100's property locat...      1"
      ]
     },
     "execution_count": 13,
     "metadata": {},
     "output_type": "execute_result"
    }
   ],
   "source": [
    "pandasTweet['upper'] = pandasTweet['Tweet'].apply(lambda x: len([x for x in x.split() if x.isupper()]))\n",
    "pandasTweet[['Tweet','upper']].head()"
   ]
  },
  {
   "cell_type": "code",
   "execution_count": 14,
   "id": "b4748aa1",
   "metadata": {},
   "outputs": [
    {
     "data": {
      "text/plain": [
       "0     b'New CoinMarketCap Listing!  EscoinToken / $E...\n",
       "1     b'#Ethereum hourly net stats. 3pm - 4pm UTC bl...\n",
       "2     b\"#DOGGYSWAP #ETH #BTC #CRYPTO..This project i...\n",
       "3     b\"$ALBT doesn't stop!!! #DEX #AMM #DEFI   $QNT...\n",
       "4     b\"By buying tokens of our 100's property locat...\n",
       "                            ...                        \n",
       "95    b'Membalas  @layer1crypto Great project, I hop...\n",
       "96    b'All About #ApeSwap BUIDL Program  f09fa4ab J...\n",
       "97    b'#BTC #ETH #DOGE  are the future. We are goin...\n",
       "98    b\"While this sideways action is happening, it'...\n",
       "99    b\"How did you get into Crypto?  Here's how I g...\n",
       "Name: Tweet, Length: 100, dtype: object"
      ]
     },
     "execution_count": 14,
     "metadata": {},
     "output_type": "execute_result"
    }
   ],
   "source": [
    "#Text cleanup/normalization\n",
    "pandasTweet['Tweet'] = pandasTweet['Tweet'].replace(r'\\\\n', ' ', regex=True)\n",
    "pandasTweet['Tweet'] = pandasTweet['Tweet'].replace(r'\\\\\\w+?', '', regex=True)\n",
    "pandasTweet['Tweet'] = pandasTweet['Tweet'].replace(r'https:\\S+', '', regex=True)\n",
    "pandasTweet['Tweet']"
   ]
  },
  {
   "cell_type": "code",
   "execution_count": 15,
   "id": "a1812273",
   "metadata": {},
   "outputs": [
    {
     "name": "stderr",
     "output_type": "stream",
     "text": [
      "<ipython-input-15-2fe78207170a>:2: FutureWarning: The default value of regex will change from True to False in a future version.\n",
      "  pandasTweet['Tweet'] = pandasTweet['Tweet'].str.replace('[^\\w\\s]','')\n"
     ]
    },
    {
     "data": {
      "text/plain": [
       "0     new coinmarketcap listing escointoken elg pric...\n",
       "1     ethereum hourly net stats 3pm 4pm utc blocks27...\n",
       "2     doggyswap eth btc cryptothis project one best ...\n",
       "3     albt doesnt stop dex amm defi qnt vxv htr fwt ...\n",
       "4     by buying tokens 100s property located chicago...\n",
       "                            ...                        \n",
       "95    membalas layer1crypto great project hope part ...\n",
       "96    all apeswap buidl program f09fa4ab join publis...\n",
       "97    btc eth doge future going pump next crypto soo...\n",
       "98    while sideways action happening great time 2 a...\n",
       "99    how get crypto heres got inf09fa4ad cryptosmar...\n",
       "Name: Tweet, Length: 100, dtype: object"
      ]
     },
     "execution_count": 15,
     "metadata": {},
     "output_type": "execute_result"
    }
   ],
   "source": [
    "pandasTweet['Tweet'] = pandasTweet['Tweet'].apply(lambda x: \" \".join(x.lower() for x in x.split()))\n",
    "pandasTweet['Tweet'] = pandasTweet['Tweet'].str.replace('[^\\w\\s]','')\n",
    "pandasTweet['Tweet'] = pandasTweet['Tweet'].apply(lambda x: \" \".join(x for x in x.split() if x not in stop))\n",
    "pandasTweet['Tweet'] = pandasTweet['Tweet'].apply(lambda x: '' + x[1:])\n",
    "pandasTweet['Tweet']"
   ]
  },
  {
   "cell_type": "code",
   "execution_count": 16,
   "id": "e1201378",
   "metadata": {},
   "outputs": [
    {
     "data": {
      "text/plain": [
       "eth         60\n",
       "btc         30\n",
       "crypto      19\n",
       "bitcoin     17\n",
       "doge        11\n",
       "ethereum    11\n",
       "project     10\n",
       "nft         10\n",
       "bnb          9\n",
       "get          8\n",
       "dtype: int64"
      ]
     },
     "execution_count": 16,
     "metadata": {},
     "output_type": "execute_result"
    }
   ],
   "source": [
    "freq = pd.Series(' '.join(pandasTweet['Tweet']).split()).value_counts()[:10]\n",
    "freq"
   ]
  },
  {
   "cell_type": "code",
   "execution_count": 17,
   "id": "42f4f235",
   "metadata": {},
   "outputs": [
    {
     "data": {
      "text/plain": [
       "0    new coinmarketcap listing escointoken elg pric...\n",
       "1    hourly net stats 3pm 4pm utc blocks270 avgdiff...\n",
       "2    doggyswap cryptothis one best projects ive his...\n",
       "3    albt doesnt stop dex amm defi qnt vxv htr fwt ...\n",
       "4    by buying tokens 100s property located chicago...\n",
       "Name: Tweet, dtype: object"
      ]
     },
     "execution_count": 17,
     "metadata": {},
     "output_type": "execute_result"
    }
   ],
   "source": [
    "freq = list(freq.index)\n",
    "pandasTweet['Tweet'] = pandasTweet['Tweet'].apply(lambda x: \" \".join(x for x in x.split() if x not in freq))\n",
    "pandasTweet['Tweet'].head()"
   ]
  },
  {
   "cell_type": "code",
   "execution_count": 18,
   "id": "c1e42aaa",
   "metadata": {},
   "outputs": [
    {
     "data": {
      "text/plain": [
       "render               1\n",
       "salvadore28099s      1\n",
       "1807                 1\n",
       "created              1\n",
       "nasdaq               1\n",
       "low                  1\n",
       "neurology            1\n",
       "10722086127657       1\n",
       "tomhandy1            1\n",
       "f09f938cmore         1\n",
       "hamarigomene280a6    1\n",
       "directly             1\n",
       "cel                  1\n",
       "inf09fa4ad           1\n",
       "02                   1\n",
       "credit               1\n",
       "answer               1\n",
       "reserve              1\n",
       "gtgtgtgtgte280a6     1\n",
       "listing              1\n",
       "dtype: int64"
      ]
     },
     "execution_count": 18,
     "metadata": {},
     "output_type": "execute_result"
    }
   ],
   "source": [
    "freq = pd.Series(' '.join(pandasTweet['Tweet']).split()).value_counts()[-20:]\n",
    "freq"
   ]
  },
  {
   "cell_type": "code",
   "execution_count": 19,
   "id": "12eaaba9",
   "metadata": {},
   "outputs": [
    {
     "data": {
      "text/plain": [
       "0     new coinmarketcap escointoken elg price 169126...\n",
       "1     hourly net stats 3pm 4pm utc blocks270 avgdiff...\n",
       "2     doggyswap cryptothis one best projects ive his...\n",
       "3     albt doesnt stop dex amm defi qnt vxv htr fwt ...\n",
       "4     by buying tokens 100s property located chicago...\n",
       "                            ...                        \n",
       "95    membalas layer1crypto great hope part share ot...\n",
       "96    all apeswap buidl program f09fa4ab join publis...\n",
       "97    future going pump next soon announcement teleg...\n",
       "98    while sideways action happening great time 2 a...\n",
       "99    how heres got cryptosmart cryptocurrency crypt...\n",
       "Name: Tweet, Length: 100, dtype: object"
      ]
     },
     "execution_count": 19,
     "metadata": {},
     "output_type": "execute_result"
    }
   ],
   "source": [
    "freq = list(freq.index)\n",
    "pandasTweet['Tweet'] = pandasTweet['Tweet'].apply(lambda x: \" \".join(x for x in x.split() if x not in freq))\n",
    "pandasTweet['Tweet']"
   ]
  },
  {
   "cell_type": "code",
   "execution_count": 20,
   "id": "2e75e313",
   "metadata": {},
   "outputs": [
    {
     "data": {
      "text/html": [
       "<div>\n",
       "<style scoped>\n",
       "    .dataframe tbody tr th:only-of-type {\n",
       "        vertical-align: middle;\n",
       "    }\n",
       "\n",
       "    .dataframe tbody tr th {\n",
       "        vertical-align: top;\n",
       "    }\n",
       "\n",
       "    .dataframe thead th {\n",
       "        text-align: right;\n",
       "    }\n",
       "</style>\n",
       "<table border=\"1\" class=\"dataframe\">\n",
       "  <thead>\n",
       "    <tr style=\"text-align: right;\">\n",
       "      <th></th>\n",
       "      <th>Tweet date</th>\n",
       "      <th>Tweet</th>\n",
       "      <th>word_count</th>\n",
       "      <th>char_count</th>\n",
       "      <th>avg_word</th>\n",
       "      <th>stopwords</th>\n",
       "      <th>hastags</th>\n",
       "      <th>numerics</th>\n",
       "      <th>upper</th>\n",
       "    </tr>\n",
       "  </thead>\n",
       "  <tbody>\n",
       "    <tr>\n",
       "      <th>0</th>\n",
       "      <td>2021-06-07 16:01:28</td>\n",
       "      <td>new coinmarketcap escointoken elg price 169126...</td>\n",
       "      <td>10</td>\n",
       "      <td>155</td>\n",
       "      <td>14.600000</td>\n",
       "      <td>0</td>\n",
       "      <td>1</td>\n",
       "      <td>0</td>\n",
       "      <td>0</td>\n",
       "    </tr>\n",
       "    <tr>\n",
       "      <th>1</th>\n",
       "      <td>2021-06-07 16:01:21</td>\n",
       "      <td>hourly net stats 3pm 4pm utc blocks270 avgdiff...</td>\n",
       "      <td>12</td>\n",
       "      <td>145</td>\n",
       "      <td>11.166667</td>\n",
       "      <td>0</td>\n",
       "      <td>2</td>\n",
       "      <td>0</td>\n",
       "      <td>1</td>\n",
       "    </tr>\n",
       "    <tr>\n",
       "      <th>2</th>\n",
       "      <td>2021-06-07 16:01:11</td>\n",
       "      <td>doggyswap cryptothis one best projects ive his...</td>\n",
       "      <td>21</td>\n",
       "      <td>154</td>\n",
       "      <td>6.700000</td>\n",
       "      <td>7</td>\n",
       "      <td>3</td>\n",
       "      <td>0</td>\n",
       "      <td>2</td>\n",
       "    </tr>\n",
       "    <tr>\n",
       "      <th>3</th>\n",
       "      <td>2021-06-07 16:01:04</td>\n",
       "      <td>albt doesnt stop dex amm defi qnt vxv htr fwt ...</td>\n",
       "      <td>19</td>\n",
       "      <td>157</td>\n",
       "      <td>7.315789</td>\n",
       "      <td>1</td>\n",
       "      <td>5</td>\n",
       "      <td>0</td>\n",
       "      <td>12</td>\n",
       "    </tr>\n",
       "    <tr>\n",
       "      <th>4</th>\n",
       "      <td>2021-06-07 16:01:04</td>\n",
       "      <td>by buying tokens 100s property located chicago...</td>\n",
       "      <td>20</td>\n",
       "      <td>158</td>\n",
       "      <td>6.950000</td>\n",
       "      <td>6</td>\n",
       "      <td>2</td>\n",
       "      <td>0</td>\n",
       "      <td>1</td>\n",
       "    </tr>\n",
       "    <tr>\n",
       "      <th>...</th>\n",
       "      <td>...</td>\n",
       "      <td>...</td>\n",
       "      <td>...</td>\n",
       "      <td>...</td>\n",
       "      <td>...</td>\n",
       "      <td>...</td>\n",
       "      <td>...</td>\n",
       "      <td>...</td>\n",
       "      <td>...</td>\n",
       "    </tr>\n",
       "    <tr>\n",
       "      <th>95</th>\n",
       "      <td>2021-06-07 15:40:25</td>\n",
       "      <td>membalas layer1crypto great hope part share ot...</td>\n",
       "      <td>21</td>\n",
       "      <td>156</td>\n",
       "      <td>6.476190</td>\n",
       "      <td>9</td>\n",
       "      <td>0</td>\n",
       "      <td>0</td>\n",
       "      <td>2</td>\n",
       "    </tr>\n",
       "    <tr>\n",
       "      <th>96</th>\n",
       "      <td>2021-06-07 15:39:47</td>\n",
       "      <td>all apeswap buidl program f09fa4ab join publis...</td>\n",
       "      <td>15</td>\n",
       "      <td>177</td>\n",
       "      <td>10.866667</td>\n",
       "      <td>2</td>\n",
       "      <td>2</td>\n",
       "      <td>0</td>\n",
       "      <td>1</td>\n",
       "    </tr>\n",
       "    <tr>\n",
       "      <th>97</th>\n",
       "      <td>2021-06-07 15:39:20</td>\n",
       "      <td>future going pump next soon announcement teleg...</td>\n",
       "      <td>23</td>\n",
       "      <td>125</td>\n",
       "      <td>4.681818</td>\n",
       "      <td>7</td>\n",
       "      <td>2</td>\n",
       "      <td>0</td>\n",
       "      <td>2</td>\n",
       "    </tr>\n",
       "    <tr>\n",
       "      <th>98</th>\n",
       "      <td>2021-06-07 15:38:54</td>\n",
       "      <td>while sideways action happening great time 2 a...</td>\n",
       "      <td>19</td>\n",
       "      <td>155</td>\n",
       "      <td>7.210526</td>\n",
       "      <td>5</td>\n",
       "      <td>0</td>\n",
       "      <td>1</td>\n",
       "      <td>1</td>\n",
       "    </tr>\n",
       "    <tr>\n",
       "      <th>99</th>\n",
       "      <td>2021-06-07 15:38:40</td>\n",
       "      <td>how heres got cryptosmart cryptocurrency crypt...</td>\n",
       "      <td>13</td>\n",
       "      <td>169</td>\n",
       "      <td>12.076923</td>\n",
       "      <td>4</td>\n",
       "      <td>2</td>\n",
       "      <td>0</td>\n",
       "      <td>1</td>\n",
       "    </tr>\n",
       "  </tbody>\n",
       "</table>\n",
       "<p>100 rows × 9 columns</p>\n",
       "</div>"
      ],
      "text/plain": [
       "             Tweet date                                              Tweet  \\\n",
       "0   2021-06-07 16:01:28  new coinmarketcap escointoken elg price 169126...   \n",
       "1   2021-06-07 16:01:21  hourly net stats 3pm 4pm utc blocks270 avgdiff...   \n",
       "2   2021-06-07 16:01:11  doggyswap cryptothis one best projects ive his...   \n",
       "3   2021-06-07 16:01:04  albt doesnt stop dex amm defi qnt vxv htr fwt ...   \n",
       "4   2021-06-07 16:01:04  by buying tokens 100s property located chicago...   \n",
       "..                  ...                                                ...   \n",
       "95  2021-06-07 15:40:25  membalas layer1crypto great hope part share ot...   \n",
       "96  2021-06-07 15:39:47  all apeswap buidl program f09fa4ab join publis...   \n",
       "97  2021-06-07 15:39:20  future going pump next soon announcement teleg...   \n",
       "98  2021-06-07 15:38:54  while sideways action happening great time 2 a...   \n",
       "99  2021-06-07 15:38:40  how heres got cryptosmart cryptocurrency crypt...   \n",
       "\n",
       "    word_count  char_count   avg_word  stopwords  hastags  numerics  upper  \n",
       "0           10         155  14.600000          0        1         0      0  \n",
       "1           12         145  11.166667          0        2         0      1  \n",
       "2           21         154   6.700000          7        3         0      2  \n",
       "3           19         157   7.315789          1        5         0     12  \n",
       "4           20         158   6.950000          6        2         0      1  \n",
       "..         ...         ...        ...        ...      ...       ...    ...  \n",
       "95          21         156   6.476190          9        0         0      2  \n",
       "96          15         177  10.866667          2        2         0      1  \n",
       "97          23         125   4.681818          7        2         0      2  \n",
       "98          19         155   7.210526          5        0         1      1  \n",
       "99          13         169  12.076923          4        2         0      1  \n",
       "\n",
       "[100 rows x 9 columns]"
      ]
     },
     "execution_count": 20,
     "metadata": {},
     "output_type": "execute_result"
    }
   ],
   "source": [
    "pandasTweet"
   ]
  },
  {
   "cell_type": "code",
   "execution_count": 21,
   "id": "b2bed80e",
   "metadata": {},
   "outputs": [
    {
     "data": {
      "text/html": [
       "<div>\n",
       "<style scoped>\n",
       "    .dataframe tbody tr th:only-of-type {\n",
       "        vertical-align: middle;\n",
       "    }\n",
       "\n",
       "    .dataframe tbody tr th {\n",
       "        vertical-align: top;\n",
       "    }\n",
       "\n",
       "    .dataframe thead th {\n",
       "        text-align: right;\n",
       "    }\n",
       "</style>\n",
       "<table border=\"1\" class=\"dataframe\">\n",
       "  <thead>\n",
       "    <tr style=\"text-align: right;\">\n",
       "      <th></th>\n",
       "      <th>Tweet</th>\n",
       "      <th>numerics</th>\n",
       "    </tr>\n",
       "  </thead>\n",
       "  <tbody>\n",
       "    <tr>\n",
       "      <th>0</th>\n",
       "      <td>new coinmarketcap escointoken elg price 169126...</td>\n",
       "      <td>1</td>\n",
       "    </tr>\n",
       "    <tr>\n",
       "      <th>1</th>\n",
       "      <td>hourly net stats 3pm 4pm utc blocks270 avgdiff...</td>\n",
       "      <td>0</td>\n",
       "    </tr>\n",
       "    <tr>\n",
       "      <th>2</th>\n",
       "      <td>doggyswap cryptothis one best projects ive his...</td>\n",
       "      <td>0</td>\n",
       "    </tr>\n",
       "    <tr>\n",
       "      <th>3</th>\n",
       "      <td>albt doesnt stop dex amm defi qnt vxv htr fwt ...</td>\n",
       "      <td>0</td>\n",
       "    </tr>\n",
       "    <tr>\n",
       "      <th>4</th>\n",
       "      <td>by buying tokens 100s property located chicago...</td>\n",
       "      <td>0</td>\n",
       "    </tr>\n",
       "  </tbody>\n",
       "</table>\n",
       "</div>"
      ],
      "text/plain": [
       "                                               Tweet  numerics\n",
       "0  new coinmarketcap escointoken elg price 169126...         1\n",
       "1  hourly net stats 3pm 4pm utc blocks270 avgdiff...         0\n",
       "2  doggyswap cryptothis one best projects ive his...         0\n",
       "3  albt doesnt stop dex amm defi qnt vxv htr fwt ...         0\n",
       "4  by buying tokens 100s property located chicago...         0"
      ]
     },
     "execution_count": 21,
     "metadata": {},
     "output_type": "execute_result"
    }
   ],
   "source": [
    "pandasTweet['numerics'] = pandasTweet['Tweet'].apply(lambda x: len([x for x in x.split() if x.isdigit()]))\n",
    "pandasTweet[['Tweet','numerics']].head()"
   ]
  },
  {
   "cell_type": "code",
   "execution_count": 22,
   "id": "88d1da2d",
   "metadata": {},
   "outputs": [
    {
     "data": {
      "text/plain": [
       "0     new coinmarketcap escointoken elg price  h vol...\n",
       "1     hourly net stats pm pm utc blocks avgdiff ph h...\n",
       "2     doggyswap cryptothis one best projects ive his...\n",
       "3     albt doesnt stop dex amm defi qnt vxv htr fwt ...\n",
       "4     by buying tokens s property located chicago ff...\n",
       "                            ...                        \n",
       "95      membalas layercrypto great hope part share otea\n",
       "96    all apeswap buidl program ffaab join publishx ...\n",
       "97    future going pump next soon announcement teleg...\n",
       "98    while sideways action happening great time  ac...\n",
       "99    how heres got cryptosmart cryptocurrency crypt...\n",
       "Name: Tweet, Length: 100, dtype: object"
      ]
     },
     "execution_count": 22,
     "metadata": {},
     "output_type": "execute_result"
    }
   ],
   "source": [
    "pandasTweet['Tweet'] = pandasTweet['Tweet'].str.replace('\\d+', '', regex=True)\n",
    "pandasTweet['Tweet']"
   ]
  },
  {
   "cell_type": "code",
   "execution_count": 23,
   "id": "0efb32fe",
   "metadata": {},
   "outputs": [],
   "source": [
    "pandasTweet['Tweet'] = pandasTweet['Tweet'].apply(lambda x: str(TextBlob(x).correct()))"
   ]
  },
  {
   "cell_type": "code",
   "execution_count": 24,
   "id": "62a404e8",
   "metadata": {},
   "outputs": [
    {
     "name": "stderr",
     "output_type": "stream",
     "text": [
      "[nltk_data] Downloading package wordnet to\n",
      "[nltk_data]     C:\\Users\\anubu\\AppData\\Roaming\\nltk_data...\n",
      "[nltk_data]   Package wordnet is already up-to-date!\n"
     ]
    },
    {
     "data": {
      "text/plain": [
       "0    new coinmarketcap escointoken leg price h volu...\n",
       "1    hour net state pm pm etc block avgdiff oh hash...\n",
       "2    doggyswap cryptothis one best project give his...\n",
       "3    alba doesn stop de am defy ant xv her fat bc w...\n",
       "4    by buying token s property located chicago uff...\n",
       "Name: Tweet, dtype: object"
      ]
     },
     "execution_count": 24,
     "metadata": {},
     "output_type": "execute_result"
    }
   ],
   "source": [
    "from textblob import Word\n",
    "nltk.download('wordnet')\n",
    "pandasTweet['Tweet'] = pandasTweet['Tweet'].apply(lambda x: \" \".join([Word(word).lemmatize() for word in x.split()]))\n",
    "pandasTweet['Tweet'].head()"
   ]
  },
  {
   "cell_type": "code",
   "execution_count": 25,
   "id": "d4de346f",
   "metadata": {},
   "outputs": [
    {
     "data": {
      "text/plain": [
       "[WordList(['price', 'change']),\n",
       " WordList(['change', 'h']),\n",
       " WordList(['h', 'market']),\n",
       " WordList(['market', 'cap']),\n",
       " WordList(['cap', 'banking'])]"
      ]
     },
     "execution_count": 25,
     "metadata": {},
     "output_type": "execute_result"
    }
   ],
   "source": [
    "TextBlob(pandasTweet['Tweet'][16]).ngrams(2)"
   ]
  },
  {
   "cell_type": "code",
   "execution_count": 26,
   "id": "22587b07",
   "metadata": {},
   "outputs": [
    {
     "data": {
      "text/html": [
       "<div>\n",
       "<style scoped>\n",
       "    .dataframe tbody tr th:only-of-type {\n",
       "        vertical-align: middle;\n",
       "    }\n",
       "\n",
       "    .dataframe tbody tr th {\n",
       "        vertical-align: top;\n",
       "    }\n",
       "\n",
       "    .dataframe thead th {\n",
       "        text-align: right;\n",
       "    }\n",
       "</style>\n",
       "<table border=\"1\" class=\"dataframe\">\n",
       "  <thead>\n",
       "    <tr style=\"text-align: right;\">\n",
       "      <th></th>\n",
       "      <th>words</th>\n",
       "      <th>tf</th>\n",
       "    </tr>\n",
       "  </thead>\n",
       "  <tbody>\n",
       "    <tr>\n",
       "      <th>0</th>\n",
       "      <td>price</td>\n",
       "      <td>11.0</td>\n",
       "    </tr>\n",
       "    <tr>\n",
       "      <th>1</th>\n",
       "      <td>leg</td>\n",
       "      <td>2.0</td>\n",
       "    </tr>\n",
       "    <tr>\n",
       "      <th>2</th>\n",
       "      <td>h</td>\n",
       "      <td>3.0</td>\n",
       "    </tr>\n",
       "    <tr>\n",
       "      <th>3</th>\n",
       "      <td>game</td>\n",
       "      <td>1.0</td>\n",
       "    </tr>\n",
       "    <tr>\n",
       "      <th>4</th>\n",
       "      <td>coinmarketcap</td>\n",
       "      <td>1.0</td>\n",
       "    </tr>\n",
       "    <tr>\n",
       "      <th>...</th>\n",
       "      <td>...</td>\n",
       "      <td>...</td>\n",
       "    </tr>\n",
       "    <tr>\n",
       "      <th>620</th>\n",
       "      <td>favorite</td>\n",
       "      <td>1.0</td>\n",
       "    </tr>\n",
       "    <tr>\n",
       "      <th>621</th>\n",
       "      <td>happening</td>\n",
       "      <td>1.0</td>\n",
       "    </tr>\n",
       "    <tr>\n",
       "      <th>622</th>\n",
       "      <td>accumulate</td>\n",
       "      <td>1.0</td>\n",
       "    </tr>\n",
       "    <tr>\n",
       "      <th>623</th>\n",
       "      <td>want</td>\n",
       "      <td>1.0</td>\n",
       "    </tr>\n",
       "    <tr>\n",
       "      <th>624</th>\n",
       "      <td>sideways</td>\n",
       "      <td>1.0</td>\n",
       "    </tr>\n",
       "  </tbody>\n",
       "</table>\n",
       "<p>625 rows × 2 columns</p>\n",
       "</div>"
      ],
      "text/plain": [
       "             words    tf\n",
       "0            price  11.0\n",
       "1              leg   2.0\n",
       "2                h   3.0\n",
       "3             game   1.0\n",
       "4    coinmarketcap   1.0\n",
       "..             ...   ...\n",
       "620       favorite   1.0\n",
       "621      happening   1.0\n",
       "622     accumulate   1.0\n",
       "623           want   1.0\n",
       "624       sideways   1.0\n",
       "\n",
       "[625 rows x 2 columns]"
      ]
     },
     "execution_count": 26,
     "metadata": {},
     "output_type": "execute_result"
    }
   ],
   "source": [
    "tf1 = (pandasTweet['Tweet'][0:99]).apply(lambda x: pd.value_counts(x.split(\" \"))).sum(axis = 0).reset_index()\n",
    "tf1.columns = ['words','tf']\n",
    "tf1"
   ]
  },
  {
   "cell_type": "code",
   "execution_count": 27,
   "id": "7c429ef9",
   "metadata": {},
   "outputs": [
    {
     "data": {
      "text/html": [
       "<div>\n",
       "<style scoped>\n",
       "    .dataframe tbody tr th:only-of-type {\n",
       "        vertical-align: middle;\n",
       "    }\n",
       "\n",
       "    .dataframe tbody tr th {\n",
       "        vertical-align: top;\n",
       "    }\n",
       "\n",
       "    .dataframe thead th {\n",
       "        text-align: right;\n",
       "    }\n",
       "</style>\n",
       "<table border=\"1\" class=\"dataframe\">\n",
       "  <thead>\n",
       "    <tr style=\"text-align: right;\">\n",
       "      <th></th>\n",
       "      <th>words</th>\n",
       "      <th>tf</th>\n",
       "      <th>idf</th>\n",
       "    </tr>\n",
       "  </thead>\n",
       "  <tbody>\n",
       "    <tr>\n",
       "      <th>0</th>\n",
       "      <td>price</td>\n",
       "      <td>11.0</td>\n",
       "      <td>2.207275</td>\n",
       "    </tr>\n",
       "    <tr>\n",
       "      <th>1</th>\n",
       "      <td>leg</td>\n",
       "      <td>2.0</td>\n",
       "      <td>2.995732</td>\n",
       "    </tr>\n",
       "    <tr>\n",
       "      <th>2</th>\n",
       "      <td>h</td>\n",
       "      <td>3.0</td>\n",
       "      <td>0.274437</td>\n",
       "    </tr>\n",
       "    <tr>\n",
       "      <th>3</th>\n",
       "      <td>game</td>\n",
       "      <td>1.0</td>\n",
       "      <td>4.605170</td>\n",
       "    </tr>\n",
       "    <tr>\n",
       "      <th>4</th>\n",
       "      <td>coinmarketcap</td>\n",
       "      <td>1.0</td>\n",
       "      <td>4.605170</td>\n",
       "    </tr>\n",
       "    <tr>\n",
       "      <th>...</th>\n",
       "      <td>...</td>\n",
       "      <td>...</td>\n",
       "      <td>...</td>\n",
       "    </tr>\n",
       "    <tr>\n",
       "      <th>620</th>\n",
       "      <td>favorite</td>\n",
       "      <td>1.0</td>\n",
       "      <td>4.605170</td>\n",
       "    </tr>\n",
       "    <tr>\n",
       "      <th>621</th>\n",
       "      <td>happening</td>\n",
       "      <td>1.0</td>\n",
       "      <td>4.605170</td>\n",
       "    </tr>\n",
       "    <tr>\n",
       "      <th>622</th>\n",
       "      <td>accumulate</td>\n",
       "      <td>1.0</td>\n",
       "      <td>4.605170</td>\n",
       "    </tr>\n",
       "    <tr>\n",
       "      <th>623</th>\n",
       "      <td>want</td>\n",
       "      <td>1.0</td>\n",
       "      <td>3.912023</td>\n",
       "    </tr>\n",
       "    <tr>\n",
       "      <th>624</th>\n",
       "      <td>sideways</td>\n",
       "      <td>1.0</td>\n",
       "      <td>4.605170</td>\n",
       "    </tr>\n",
       "  </tbody>\n",
       "</table>\n",
       "<p>625 rows × 3 columns</p>\n",
       "</div>"
      ],
      "text/plain": [
       "             words    tf       idf\n",
       "0            price  11.0  2.207275\n",
       "1              leg   2.0  2.995732\n",
       "2                h   3.0  0.274437\n",
       "3             game   1.0  4.605170\n",
       "4    coinmarketcap   1.0  4.605170\n",
       "..             ...   ...       ...\n",
       "620       favorite   1.0  4.605170\n",
       "621      happening   1.0  4.605170\n",
       "622     accumulate   1.0  4.605170\n",
       "623           want   1.0  3.912023\n",
       "624       sideways   1.0  4.605170\n",
       "\n",
       "[625 rows x 3 columns]"
      ]
     },
     "execution_count": 27,
     "metadata": {},
     "output_type": "execute_result"
    }
   ],
   "source": [
    "import numpy as np\n",
    "for i,word in enumerate(tf1['words']):\n",
    "    tf1.loc[i, 'idf'] = np.log(pandasTweet.shape[0]/(len(pandasTweet[pandasTweet['Tweet'].str.contains(word)])))\n",
    "tf1"
   ]
  },
  {
   "cell_type": "code",
   "execution_count": 28,
   "id": "1f621180",
   "metadata": {},
   "outputs": [
    {
     "data": {
      "text/html": [
       "<div>\n",
       "<style scoped>\n",
       "    .dataframe tbody tr th:only-of-type {\n",
       "        vertical-align: middle;\n",
       "    }\n",
       "\n",
       "    .dataframe tbody tr th {\n",
       "        vertical-align: top;\n",
       "    }\n",
       "\n",
       "    .dataframe thead th {\n",
       "        text-align: right;\n",
       "    }\n",
       "</style>\n",
       "<table border=\"1\" class=\"dataframe\">\n",
       "  <thead>\n",
       "    <tr style=\"text-align: right;\">\n",
       "      <th></th>\n",
       "      <th>words</th>\n",
       "      <th>tf</th>\n",
       "      <th>idf</th>\n",
       "      <th>tfidf</th>\n",
       "    </tr>\n",
       "  </thead>\n",
       "  <tbody>\n",
       "    <tr>\n",
       "      <th>0</th>\n",
       "      <td>price</td>\n",
       "      <td>11.0</td>\n",
       "      <td>2.207275</td>\n",
       "      <td>24.280024</td>\n",
       "    </tr>\n",
       "    <tr>\n",
       "      <th>1</th>\n",
       "      <td>leg</td>\n",
       "      <td>2.0</td>\n",
       "      <td>2.995732</td>\n",
       "      <td>5.991465</td>\n",
       "    </tr>\n",
       "    <tr>\n",
       "      <th>2</th>\n",
       "      <td>h</td>\n",
       "      <td>3.0</td>\n",
       "      <td>0.274437</td>\n",
       "      <td>0.823311</td>\n",
       "    </tr>\n",
       "    <tr>\n",
       "      <th>3</th>\n",
       "      <td>game</td>\n",
       "      <td>1.0</td>\n",
       "      <td>4.605170</td>\n",
       "      <td>4.605170</td>\n",
       "    </tr>\n",
       "    <tr>\n",
       "      <th>4</th>\n",
       "      <td>coinmarketcap</td>\n",
       "      <td>1.0</td>\n",
       "      <td>4.605170</td>\n",
       "      <td>4.605170</td>\n",
       "    </tr>\n",
       "    <tr>\n",
       "      <th>...</th>\n",
       "      <td>...</td>\n",
       "      <td>...</td>\n",
       "      <td>...</td>\n",
       "      <td>...</td>\n",
       "    </tr>\n",
       "    <tr>\n",
       "      <th>620</th>\n",
       "      <td>favorite</td>\n",
       "      <td>1.0</td>\n",
       "      <td>4.605170</td>\n",
       "      <td>4.605170</td>\n",
       "    </tr>\n",
       "    <tr>\n",
       "      <th>621</th>\n",
       "      <td>happening</td>\n",
       "      <td>1.0</td>\n",
       "      <td>4.605170</td>\n",
       "      <td>4.605170</td>\n",
       "    </tr>\n",
       "    <tr>\n",
       "      <th>622</th>\n",
       "      <td>accumulate</td>\n",
       "      <td>1.0</td>\n",
       "      <td>4.605170</td>\n",
       "      <td>4.605170</td>\n",
       "    </tr>\n",
       "    <tr>\n",
       "      <th>623</th>\n",
       "      <td>want</td>\n",
       "      <td>1.0</td>\n",
       "      <td>3.912023</td>\n",
       "      <td>3.912023</td>\n",
       "    </tr>\n",
       "    <tr>\n",
       "      <th>624</th>\n",
       "      <td>sideways</td>\n",
       "      <td>1.0</td>\n",
       "      <td>4.605170</td>\n",
       "      <td>4.605170</td>\n",
       "    </tr>\n",
       "  </tbody>\n",
       "</table>\n",
       "<p>625 rows × 4 columns</p>\n",
       "</div>"
      ],
      "text/plain": [
       "             words    tf       idf      tfidf\n",
       "0            price  11.0  2.207275  24.280024\n",
       "1              leg   2.0  2.995732   5.991465\n",
       "2                h   3.0  0.274437   0.823311\n",
       "3             game   1.0  4.605170   4.605170\n",
       "4    coinmarketcap   1.0  4.605170   4.605170\n",
       "..             ...   ...       ...        ...\n",
       "620       favorite   1.0  4.605170   4.605170\n",
       "621      happening   1.0  4.605170   4.605170\n",
       "622     accumulate   1.0  4.605170   4.605170\n",
       "623           want   1.0  3.912023   3.912023\n",
       "624       sideways   1.0  4.605170   4.605170\n",
       "\n",
       "[625 rows x 4 columns]"
      ]
     },
     "execution_count": 28,
     "metadata": {},
     "output_type": "execute_result"
    }
   ],
   "source": [
    "tf1['tfidf'] = tf1['tf'] * tf1['idf']\n",
    "tf1"
   ]
  },
  {
   "cell_type": "code",
   "execution_count": 29,
   "id": "13927bae",
   "metadata": {},
   "outputs": [
    {
     "data": {
      "text/html": [
       "<div>\n",
       "<style scoped>\n",
       "    .dataframe tbody tr th:only-of-type {\n",
       "        vertical-align: middle;\n",
       "    }\n",
       "\n",
       "    .dataframe tbody tr th {\n",
       "        vertical-align: top;\n",
       "    }\n",
       "\n",
       "    .dataframe thead th {\n",
       "        text-align: right;\n",
       "    }\n",
       "</style>\n",
       "<table border=\"1\" class=\"dataframe\">\n",
       "  <thead>\n",
       "    <tr style=\"text-align: right;\">\n",
       "      <th></th>\n",
       "      <th>Tweet</th>\n",
       "      <th>sentiment</th>\n",
       "    </tr>\n",
       "  </thead>\n",
       "  <tbody>\n",
       "    <tr>\n",
       "      <th>0</th>\n",
       "      <td>new coinmarketcap escointoken leg price h volu...</td>\n",
       "      <td>-0.131818</td>\n",
       "    </tr>\n",
       "    <tr>\n",
       "      <th>1</th>\n",
       "      <td>hour net state pm pm etc block avgdiff oh hash...</td>\n",
       "      <td>0.000000</td>\n",
       "    </tr>\n",
       "    <tr>\n",
       "      <th>2</th>\n",
       "      <td>doggyswap cryptothis one best project give his...</td>\n",
       "      <td>1.000000</td>\n",
       "    </tr>\n",
       "    <tr>\n",
       "      <th>3</th>\n",
       "      <td>alba doesn stop de am defy ant xv her fat bc w...</td>\n",
       "      <td>0.000000</td>\n",
       "    </tr>\n",
       "    <tr>\n",
       "      <th>4</th>\n",
       "      <td>by buying token s property located chicago uff...</td>\n",
       "      <td>0.357143</td>\n",
       "    </tr>\n",
       "    <tr>\n",
       "      <th>...</th>\n",
       "      <td>...</td>\n",
       "      <td>...</td>\n",
       "    </tr>\n",
       "    <tr>\n",
       "      <th>95</th>\n",
       "      <td>membalas layercrypto great hope part share tea</td>\n",
       "      <td>0.800000</td>\n",
       "    </tr>\n",
       "    <tr>\n",
       "      <th>96</th>\n",
       "      <td>all apeswap build program ffaab join publish f...</td>\n",
       "      <td>0.400000</td>\n",
       "    </tr>\n",
       "    <tr>\n",
       "      <th>97</th>\n",
       "      <td>future going pump next soon announcement teleg...</td>\n",
       "      <td>0.000000</td>\n",
       "    </tr>\n",
       "    <tr>\n",
       "      <th>98</th>\n",
       "      <td>while sideways action happening great time acc...</td>\n",
       "      <td>0.466667</td>\n",
       "    </tr>\n",
       "    <tr>\n",
       "      <th>99</th>\n",
       "      <td>how here got cryptosmart cryptocurrency crypto...</td>\n",
       "      <td>0.000000</td>\n",
       "    </tr>\n",
       "  </tbody>\n",
       "</table>\n",
       "<p>100 rows × 2 columns</p>\n",
       "</div>"
      ],
      "text/plain": [
       "                                                Tweet  sentiment\n",
       "0   new coinmarketcap escointoken leg price h volu...  -0.131818\n",
       "1   hour net state pm pm etc block avgdiff oh hash...   0.000000\n",
       "2   doggyswap cryptothis one best project give his...   1.000000\n",
       "3   alba doesn stop de am defy ant xv her fat bc w...   0.000000\n",
       "4   by buying token s property located chicago uff...   0.357143\n",
       "..                                                ...        ...\n",
       "95     membalas layercrypto great hope part share tea   0.800000\n",
       "96  all apeswap build program ffaab join publish f...   0.400000\n",
       "97  future going pump next soon announcement teleg...   0.000000\n",
       "98  while sideways action happening great time acc...   0.466667\n",
       "99  how here got cryptosmart cryptocurrency crypto...   0.000000\n",
       "\n",
       "[100 rows x 2 columns]"
      ]
     },
     "execution_count": 29,
     "metadata": {},
     "output_type": "execute_result"
    }
   ],
   "source": [
    "pandasTweet['sentiment'] = pandasTweet['Tweet'].apply(lambda x: TextBlob(x).sentiment[0] )\n",
    "pandasTweet[['Tweet','sentiment']]"
   ]
  },
  {
   "cell_type": "code",
   "execution_count": 30,
   "id": "a9ab9ce5",
   "metadata": {},
   "outputs": [],
   "source": [
    "predictions = [1,0,1,1,1,1,1,1,1,0,1,0,0,1,0,0,1,1,0,0,0,1,1,1,0,0,1,1,0,1,0,1,0,0,0,0,0,0,0,0,1,1,0,0,0,1,0,0,0,0,0,0,0,0,1,1,1,0,0,0,0,1,1,1,1,0,1,0,0,0,1,0,1,1,1,0,1,0,0,0,0,0,0,0,0,0,0,0,1,0,1,0,1,1,0,0,1,0,1,1]"
   ]
  },
  {
   "cell_type": "code",
   "execution_count": 31,
   "id": "2b70ec8d",
   "metadata": {},
   "outputs": [],
   "source": [
    "#Evaluated the tweets and assigned 1 -> i it's positive 0 -> if it's negative/neutral\n",
    "pandasTweet['Personal evalument'] = predictions"
   ]
  },
  {
   "cell_type": "code",
   "execution_count": 32,
   "id": "f5088a8e",
   "metadata": {},
   "outputs": [],
   "source": [
    "train = []\n",
    "test = []\n",
    "pred_train = []\n",
    "pred_test = []\n",
    "sent_test = []"
   ]
  },
  {
   "cell_type": "code",
   "execution_count": 33,
   "id": "7ef86bf6",
   "metadata": {},
   "outputs": [],
   "source": [
    "train = pandasTweet['Tweet'][0:80]\n",
    "test = pandasTweet['Tweet'][80:100]\n",
    "pred_train = pandasTweet['Personal evalument'][0:80]\n",
    "pred_test = pandasTweet['Personal evalument'][80:100]\n",
    "sent_test = pandasTweet['sentiment']"
   ]
  },
  {
   "cell_type": "code",
   "execution_count": 34,
   "id": "66fa05cc",
   "metadata": {},
   "outputs": [
    {
     "name": "stdout",
     "output_type": "stream",
     "text": [
      "  (0, 114)\t1\n",
      "  (0, 198)\t1\n",
      "  (0, 241)\t1\n",
      "  (0, 259)\t1\n",
      "  (0, 322)\t1\n",
      "  (0, 382)\t1\n",
      "  (0, 443)\t1\n",
      "  (0, 597)\t1\n",
      "  (1, 40)\t1\n",
      "  (1, 41)\t1\n",
      "  (1, 43)\t1\n",
      "  (1, 62)\t1\n",
      "  (1, 199)\t1\n",
      "  (1, 263)\t1\n",
      "  (1, 281)\t1\n",
      "  (1, 379)\t1\n",
      "  (1, 402)\t1\n",
      "  (1, 434)\t2\n",
      "  (1, 515)\t1\n",
      "  (1, 537)\t1\n",
      "  (1, 543)\t1\n",
      "  (2, 55)\t1\n",
      "  (2, 140)\t1\n",
      "  (2, 148)\t1\n",
      "  (2, 174)\t1\n",
      "  :\t:\n",
      "  (77, 576)\t1\n",
      "  (77, 577)\t1\n",
      "  (78, 89)\t1\n",
      "  (78, 90)\t1\n",
      "  (78, 217)\t1\n",
      "  (78, 220)\t1\n",
      "  (78, 221)\t1\n",
      "  (78, 228)\t1\n",
      "  (78, 244)\t1\n",
      "  (78, 298)\t1\n",
      "  (78, 344)\t1\n",
      "  (78, 391)\t1\n",
      "  (78, 443)\t1\n",
      "  (78, 500)\t1\n",
      "  (78, 625)\t1\n",
      "  (79, 69)\t1\n",
      "  (79, 234)\t1\n",
      "  (79, 288)\t1\n",
      "  (79, 328)\t1\n",
      "  (79, 437)\t1\n",
      "  (79, 451)\t1\n",
      "  (79, 464)\t1\n",
      "  (79, 533)\t1\n",
      "  (79, 548)\t1\n",
      "  (79, 614)\t1\n"
     ]
    }
   ],
   "source": [
    "#Vectorizing\n",
    "count_vect = CountVectorizer(analyzer='word', token_pattern=r'\\w{1,}')\n",
    "count_vect.fit(pandasTweet['Tweet'])\n",
    "\n",
    "xtrain_count =  count_vect.transform(train)\n",
    "xtest_count =  count_vect.transform(test)\n",
    "print (xtrain_count)"
   ]
  },
  {
   "cell_type": "code",
   "execution_count": 35,
   "id": "64b6b9bc",
   "metadata": {},
   "outputs": [
    {
     "data": {
      "text/plain": [
       "DecisionTreeClassifier()"
      ]
     },
     "execution_count": 35,
     "metadata": {},
     "output_type": "execute_result"
    }
   ],
   "source": [
    "#Training the model\n",
    "clf = tree.DecisionTreeClassifier()\n",
    "clf.fit(xtrain_count, pred_train)"
   ]
  },
  {
   "cell_type": "code",
   "execution_count": 36,
   "id": "8c5d0049",
   "metadata": {},
   "outputs": [
    {
     "data": {
      "text/plain": [
       "array([1, 1, 1, 1, 1, 1, 1, 0, 0, 1, 1, 1, 1, 0, 1, 0, 0, 1, 0, 1],\n",
       "      dtype=int64)"
      ]
     },
     "execution_count": 36,
     "metadata": {},
     "output_type": "execute_result"
    }
   ],
   "source": [
    "#Prediction\n",
    "test_results = clf.predict(xtest_count)\n",
    "test_results"
   ]
  },
  {
   "cell_type": "code",
   "execution_count": 37,
   "id": "bbdbc147",
   "metadata": {},
   "outputs": [
    {
     "data": {
      "text/plain": [
       "80    0\n",
       "81    0\n",
       "82    0\n",
       "83    0\n",
       "84    0\n",
       "85    0\n",
       "86    0\n",
       "87    0\n",
       "88    1\n",
       "89    0\n",
       "90    1\n",
       "91    0\n",
       "92    1\n",
       "93    1\n",
       "94    0\n",
       "95    0\n",
       "96    1\n",
       "97    0\n",
       "98    1\n",
       "99    1\n",
       "Name: Personal evalument, dtype: int64"
      ]
     },
     "execution_count": 37,
     "metadata": {},
     "output_type": "execute_result"
    }
   ],
   "source": [
    "#Predicted outcome:\n",
    "pred_test"
   ]
  },
  {
   "cell_type": "code",
   "execution_count": 38,
   "id": "4d870ce5",
   "metadata": {},
   "outputs": [],
   "source": [
    "testDataSet = pd.DataFrame(test)"
   ]
  },
  {
   "cell_type": "code",
   "execution_count": 39,
   "id": "e9221a7a",
   "metadata": {},
   "outputs": [],
   "source": [
    "testDataSet['Personal evaluation'] = pred_test\n",
    "testDataSet['Test results'] = test_results\n",
    "testDataSet['Sentiment'] = sent_test"
   ]
  },
  {
   "cell_type": "code",
   "execution_count": 40,
   "id": "53f68395",
   "metadata": {},
   "outputs": [
    {
     "data": {
      "text/html": [
       "<div>\n",
       "<style scoped>\n",
       "    .dataframe tbody tr th:only-of-type {\n",
       "        vertical-align: middle;\n",
       "    }\n",
       "\n",
       "    .dataframe tbody tr th {\n",
       "        vertical-align: top;\n",
       "    }\n",
       "\n",
       "    .dataframe thead th {\n",
       "        text-align: right;\n",
       "    }\n",
       "</style>\n",
       "<table border=\"1\" class=\"dataframe\">\n",
       "  <thead>\n",
       "    <tr style=\"text-align: right;\">\n",
       "      <th></th>\n",
       "      <th>Tweet</th>\n",
       "      <th>Personal evaluation</th>\n",
       "      <th>Test results</th>\n",
       "      <th>Sentiment</th>\n",
       "    </tr>\n",
       "  </thead>\n",
       "  <tbody>\n",
       "    <tr>\n",
       "      <th>80</th>\n",
       "      <td>cooking something awesome iron finance zilliqa...</td>\n",
       "      <td>0</td>\n",
       "      <td>1</td>\n",
       "      <td>1.000000</td>\n",
       "    </tr>\n",
       "    <tr>\n",
       "      <th>81</th>\n",
       "      <td>obviously safemoon actually solving real probl...</td>\n",
       "      <td>0</td>\n",
       "      <td>1</td>\n",
       "      <td>0.012500</td>\n",
       "    </tr>\n",
       "    <tr>\n",
       "      <th>82</th>\n",
       "      <td>trying experiment different background love tu...</td>\n",
       "      <td>0</td>\n",
       "      <td>1</td>\n",
       "      <td>0.250000</td>\n",
       "    </tr>\n",
       "    <tr>\n",
       "      <th>83</th>\n",
       "      <td>limit him could listed finance soon research a...</td>\n",
       "      <td>0</td>\n",
       "      <td>1</td>\n",
       "      <td>0.500000</td>\n",
       "    </tr>\n",
       "    <tr>\n",
       "      <th>84</th>\n",
       "      <td>a quiver investor option select favourite crea...</td>\n",
       "      <td>0</td>\n",
       "      <td>1</td>\n",
       "      <td>0.000000</td>\n",
       "    </tr>\n",
       "    <tr>\n",
       "      <th>85</th>\n",
       "      <td>unique modern within trading strategics develo...</td>\n",
       "      <td>0</td>\n",
       "      <td>1</td>\n",
       "      <td>0.225000</td>\n",
       "    </tr>\n",
       "    <tr>\n",
       "      <th>86</th>\n",
       "      <td>thanks mention kanhaiy gettibet_bsc good xefcd...</td>\n",
       "      <td>0</td>\n",
       "      <td>1</td>\n",
       "      <td>0.450000</td>\n",
       "    </tr>\n",
       "    <tr>\n",
       "      <th>87</th>\n",
       "      <td>ff price update our hour uffa each uffa each d...</td>\n",
       "      <td>0</td>\n",
       "      <td>0</td>\n",
       "      <td>0.000000</td>\n",
       "    </tr>\n",
       "    <tr>\n",
       "      <th>88</th>\n",
       "      <td>ff price update u hour uffa uffa dot uffa a</td>\n",
       "      <td>1</td>\n",
       "      <td>0</td>\n",
       "      <td>0.000000</td>\n",
       "    </tr>\n",
       "    <tr>\n",
       "      <th>89</th>\n",
       "      <td>dont forget time chain met donna blow dogecoin...</td>\n",
       "      <td>0</td>\n",
       "      <td>1</td>\n",
       "      <td>0.250000</td>\n",
       "    </tr>\n",
       "    <tr>\n",
       "      <th>90</th>\n",
       "      <td>red wave land blue island called magic or etc ...</td>\n",
       "      <td>1</td>\n",
       "      <td>1</td>\n",
       "      <td>0.166667</td>\n",
       "    </tr>\n",
       "    <tr>\n",
       "      <th>91</th>\n",
       "      <td>adoption paraguay could follow el footstepsbtc...</td>\n",
       "      <td>0</td>\n",
       "      <td>1</td>\n",
       "      <td>0.000000</td>\n",
       "    </tr>\n",
       "    <tr>\n",
       "      <th>92</th>\n",
       "      <td>lunch he sex ff pancakeswap dogecoin am bscgem...</td>\n",
       "      <td>1</td>\n",
       "      <td>1</td>\n",
       "      <td>0.000000</td>\n",
       "    </tr>\n",
       "    <tr>\n",
       "      <th>93</th>\n",
       "      <td>do know micro blow build blockchain technology...</td>\n",
       "      <td>1</td>\n",
       "      <td>0</td>\n",
       "      <td>0.000000</td>\n",
       "    </tr>\n",
       "    <tr>\n",
       "      <th>94</th>\n",
       "      <td>random dead available opened look feedback idea</td>\n",
       "      <td>0</td>\n",
       "      <td>1</td>\n",
       "      <td>-0.100000</td>\n",
       "    </tr>\n",
       "    <tr>\n",
       "      <th>95</th>\n",
       "      <td>membalas layercrypto great hope part share tea</td>\n",
       "      <td>0</td>\n",
       "      <td>0</td>\n",
       "      <td>0.800000</td>\n",
       "    </tr>\n",
       "    <tr>\n",
       "      <th>96</th>\n",
       "      <td>all apeswap build program ffaab join publish f...</td>\n",
       "      <td>1</td>\n",
       "      <td>0</td>\n",
       "      <td>0.400000</td>\n",
       "    </tr>\n",
       "    <tr>\n",
       "      <th>97</th>\n",
       "      <td>future going pump next soon announcement teleg...</td>\n",
       "      <td>0</td>\n",
       "      <td>1</td>\n",
       "      <td>0.000000</td>\n",
       "    </tr>\n",
       "    <tr>\n",
       "      <th>98</th>\n",
       "      <td>while sideways action happening great time acc...</td>\n",
       "      <td>1</td>\n",
       "      <td>0</td>\n",
       "      <td>0.466667</td>\n",
       "    </tr>\n",
       "    <tr>\n",
       "      <th>99</th>\n",
       "      <td>how here got cryptosmart cryptocurrency crypto...</td>\n",
       "      <td>1</td>\n",
       "      <td>1</td>\n",
       "      <td>0.000000</td>\n",
       "    </tr>\n",
       "  </tbody>\n",
       "</table>\n",
       "</div>"
      ],
      "text/plain": [
       "                                                Tweet  Personal evaluation  \\\n",
       "80  cooking something awesome iron finance zilliqa...                    0   \n",
       "81  obviously safemoon actually solving real probl...                    0   \n",
       "82  trying experiment different background love tu...                    0   \n",
       "83  limit him could listed finance soon research a...                    0   \n",
       "84  a quiver investor option select favourite crea...                    0   \n",
       "85  unique modern within trading strategics develo...                    0   \n",
       "86  thanks mention kanhaiy gettibet_bsc good xefcd...                    0   \n",
       "87  ff price update our hour uffa each uffa each d...                    0   \n",
       "88        ff price update u hour uffa uffa dot uffa a                    1   \n",
       "89  dont forget time chain met donna blow dogecoin...                    0   \n",
       "90  red wave land blue island called magic or etc ...                    1   \n",
       "91  adoption paraguay could follow el footstepsbtc...                    0   \n",
       "92  lunch he sex ff pancakeswap dogecoin am bscgem...                    1   \n",
       "93  do know micro blow build blockchain technology...                    1   \n",
       "94    random dead available opened look feedback idea                    0   \n",
       "95     membalas layercrypto great hope part share tea                    0   \n",
       "96  all apeswap build program ffaab join publish f...                    1   \n",
       "97  future going pump next soon announcement teleg...                    0   \n",
       "98  while sideways action happening great time acc...                    1   \n",
       "99  how here got cryptosmart cryptocurrency crypto...                    1   \n",
       "\n",
       "    Test results  Sentiment  \n",
       "80             1   1.000000  \n",
       "81             1   0.012500  \n",
       "82             1   0.250000  \n",
       "83             1   0.500000  \n",
       "84             1   0.000000  \n",
       "85             1   0.225000  \n",
       "86             1   0.450000  \n",
       "87             0   0.000000  \n",
       "88             0   0.000000  \n",
       "89             1   0.250000  \n",
       "90             1   0.166667  \n",
       "91             1   0.000000  \n",
       "92             1   0.000000  \n",
       "93             0   0.000000  \n",
       "94             1  -0.100000  \n",
       "95             0   0.800000  \n",
       "96             0   0.400000  \n",
       "97             1   0.000000  \n",
       "98             0   0.466667  \n",
       "99             1   0.000000  "
      ]
     },
     "execution_count": 40,
     "metadata": {},
     "output_type": "execute_result"
    }
   ],
   "source": [
    "testDataSet"
   ]
  },
  {
   "cell_type": "code",
   "execution_count": 41,
   "id": "82d6f108",
   "metadata": {},
   "outputs": [
    {
     "name": "stdout",
     "output_type": "stream",
     "text": [
      "              precision    recall  f1-score   support\n",
      "\n",
      "           0       0.33      0.15      0.21        13\n",
      "           1       0.21      0.43      0.29         7\n",
      "\n",
      "    accuracy                           0.25        20\n",
      "   macro avg       0.27      0.29      0.25        20\n",
      "weighted avg       0.29      0.25      0.24        20\n",
      "\n"
     ]
    }
   ],
   "source": [
    "print(classification_report(pred_test, test_results))"
   ]
  },
  {
   "cell_type": "code",
   "execution_count": 42,
   "id": "3def298d",
   "metadata": {},
   "outputs": [
    {
     "name": "stdout",
     "output_type": "stream",
     "text": [
      "35.0\n"
     ]
    }
   ],
   "source": [
    "#Percentage chance of increase in value of ETH\n",
    "#According to my evaluation based on the tweets\n",
    "predChance = 7/20 * 100\n",
    "print(predChance)"
   ]
  },
  {
   "cell_type": "code",
   "execution_count": 43,
   "id": "5d79d372",
   "metadata": {},
   "outputs": [],
   "source": [
    "#Value should fall"
   ]
  },
  {
   "cell_type": "code",
   "execution_count": 44,
   "id": "c7408530",
   "metadata": {},
   "outputs": [
    {
     "name": "stdout",
     "output_type": "stream",
     "text": [
      "65.0\n"
     ]
    }
   ],
   "source": [
    "#According to the model\n",
    "predChanceTest = 13/20 * 100\n",
    "print(predChanceTest)"
   ]
  },
  {
   "cell_type": "code",
   "execution_count": 45,
   "id": "72ea4def",
   "metadata": {},
   "outputs": [
    {
     "data": {
      "text/plain": [
       "'2021-06-07 15:38:40'"
      ]
     },
     "execution_count": 45,
     "metadata": {},
     "output_type": "execute_result"
    }
   ],
   "source": [
    "#Value should increase\n",
    "#Time of oldest Tweet within test group:\n",
    "oldestDate"
   ]
  },
  {
   "cell_type": "code",
   "execution_count": 46,
   "id": "c0497843",
   "metadata": {},
   "outputs": [
    {
     "data": {
      "text/plain": [
       "'2021-06-07 15:43:47'"
      ]
     },
     "execution_count": 46,
     "metadata": {},
     "output_type": "execute_result"
    }
   ],
   "source": [
    "#2810$\n",
    "#Value at the time on most recent Tweet\n",
    "recentDate"
   ]
  },
  {
   "cell_type": "code",
   "execution_count": 47,
   "id": "4d1260bf",
   "metadata": {},
   "outputs": [],
   "source": [
    "#2811"
   ]
  },
  {
   "cell_type": "code",
   "execution_count": null,
   "id": "0b59c738",
   "metadata": {},
   "outputs": [],
   "source": []
  }
 ],
 "metadata": {
  "kernelspec": {
   "display_name": "Python 3",
   "language": "python",
   "name": "python3"
  },
  "language_info": {
   "codemirror_mode": {
    "name": "ipython",
    "version": 3
   },
   "file_extension": ".py",
   "mimetype": "text/x-python",
   "name": "python",
   "nbconvert_exporter": "python",
   "pygments_lexer": "ipython3",
   "version": "3.8.8"
  }
 },
 "nbformat": 4,
 "nbformat_minor": 5
}
